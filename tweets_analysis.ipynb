{
  "nbformat": 4,
  "nbformat_minor": 0,
  "metadata": {
    "colab": {
      "name": "Untitled7.ipynb",
      "provenance": []
    },
    "kernelspec": {
      "name": "python3",
      "display_name": "Python 3"
    }
  },
  "cells": [
    {
      "cell_type": "markdown",
      "metadata": {
        "id": "tnxKw2P0H4Pi"
      },
      "source": [
        "### Author: Shahnawaz Mogal\n",
        "\n",
        "###Purpose: Analysis of tweets part of Russian Misinformation campaign (2016)"
      ]
    },
    {
      "cell_type": "code",
      "metadata": {
        "id": "K7QricKQJvMm",
        "outputId": "38e6a939-eaea-4e23-cff4-26a91e460f04",
        "colab": {
          "base_uri": "https://localhost:8080/"
        }
      },
      "source": [
        "import nltk\n",
        "nltk.download('vader_lexicon')"
      ],
      "execution_count": 64,
      "outputs": [
        {
          "output_type": "stream",
          "text": [
            "[nltk_data] Downloading package vader_lexicon to /root/nltk_data...\n",
            "[nltk_data]   Package vader_lexicon is already up-to-date!\n"
          ],
          "name": "stdout"
        },
        {
          "output_type": "execute_result",
          "data": {
            "text/plain": [
              "True"
            ]
          },
          "metadata": {
            "tags": []
          },
          "execution_count": 64
        }
      ]
    },
    {
      "cell_type": "code",
      "metadata": {
        "id": "m81aDeFPKRqX"
      },
      "source": [
        "from nltk.sentiment.vader import SentimentIntensityAnalyzer\n"
      ],
      "execution_count": 65,
      "outputs": []
    },
    {
      "cell_type": "code",
      "metadata": {
        "id": "9JR7uYUiGZmn"
      },
      "source": [
        "import pandas as pd\n",
        "\n",
        "df = pd.read_csv(\"data/tweets.csv\")\n"
      ],
      "execution_count": 67,
      "outputs": []
    },
    {
      "cell_type": "code",
      "metadata": {
        "id": "4Jn7fZifHuGt",
        "outputId": "92c6bcc9-1b95-4802-bec9-d59e0eb5786e",
        "colab": {
          "base_uri": "https://localhost:8080/",
          "height": 551
        }
      },
      "source": [
        "df.head(5)"
      ],
      "execution_count": 68,
      "outputs": [
        {
          "output_type": "execute_result",
          "data": {
            "text/html": [
              "<div>\n",
              "<style scoped>\n",
              "    .dataframe tbody tr th:only-of-type {\n",
              "        vertical-align: middle;\n",
              "    }\n",
              "\n",
              "    .dataframe tbody tr th {\n",
              "        vertical-align: top;\n",
              "    }\n",
              "\n",
              "    .dataframe thead th {\n",
              "        text-align: right;\n",
              "    }\n",
              "</style>\n",
              "<table border=\"1\" class=\"dataframe\">\n",
              "  <thead>\n",
              "    <tr style=\"text-align: right;\">\n",
              "      <th></th>\n",
              "      <th>user_id</th>\n",
              "      <th>user_key</th>\n",
              "      <th>created_at</th>\n",
              "      <th>created_str</th>\n",
              "      <th>retweet_count</th>\n",
              "      <th>retweeted</th>\n",
              "      <th>favorite_count</th>\n",
              "      <th>text</th>\n",
              "      <th>tweet_id</th>\n",
              "      <th>source</th>\n",
              "      <th>hashtags</th>\n",
              "      <th>expanded_urls</th>\n",
              "      <th>posted</th>\n",
              "      <th>mentions</th>\n",
              "      <th>retweeted_status_id</th>\n",
              "      <th>in_reply_to_status_id</th>\n",
              "    </tr>\n",
              "  </thead>\n",
              "  <tbody>\n",
              "    <tr>\n",
              "      <th>0</th>\n",
              "      <td>1.868981e+09</td>\n",
              "      <td>ryanmaxwell_1</td>\n",
              "      <td>1.458672e+12</td>\n",
              "      <td>2016-03-22 18:31:42</td>\n",
              "      <td>NaN</td>\n",
              "      <td>NaN</td>\n",
              "      <td>NaN</td>\n",
              "      <td>#IslamKills Are you trying to say that there w...</td>\n",
              "      <td>7.123460e+17</td>\n",
              "      <td>NaN</td>\n",
              "      <td>[\"IslamKills\"]</td>\n",
              "      <td>[]</td>\n",
              "      <td>POSTED</td>\n",
              "      <td>[]</td>\n",
              "      <td>NaN</td>\n",
              "      <td>NaN</td>\n",
              "    </tr>\n",
              "    <tr>\n",
              "      <th>1</th>\n",
              "      <td>2.571870e+09</td>\n",
              "      <td>detroitdailynew</td>\n",
              "      <td>1.476133e+12</td>\n",
              "      <td>2016-10-10 20:57:00</td>\n",
              "      <td>0.0</td>\n",
              "      <td>False</td>\n",
              "      <td>0.0</td>\n",
              "      <td>Clinton: Trump should’ve apologized more, atta...</td>\n",
              "      <td>7.855849e+17</td>\n",
              "      <td>&lt;a href=\"http://twitterfeed.com\" rel=\"nofollow...</td>\n",
              "      <td>[]</td>\n",
              "      <td>[\"http://detne.ws/2e172jF\"]</td>\n",
              "      <td>POSTED</td>\n",
              "      <td>[]</td>\n",
              "      <td>NaN</td>\n",
              "      <td>NaN</td>\n",
              "    </tr>\n",
              "    <tr>\n",
              "      <th>2</th>\n",
              "      <td>1.710805e+09</td>\n",
              "      <td>cookncooks</td>\n",
              "      <td>1.487767e+12</td>\n",
              "      <td>2017-02-22 12:43:43</td>\n",
              "      <td>NaN</td>\n",
              "      <td>NaN</td>\n",
              "      <td>NaN</td>\n",
              "      <td>RT @ltapoll: Who was/is the best president of ...</td>\n",
              "      <td>8.343832e+17</td>\n",
              "      <td>NaN</td>\n",
              "      <td>[]</td>\n",
              "      <td>[]</td>\n",
              "      <td>POSTED</td>\n",
              "      <td>[]</td>\n",
              "      <td>NaN</td>\n",
              "      <td>NaN</td>\n",
              "    </tr>\n",
              "    <tr>\n",
              "      <th>3</th>\n",
              "      <td>2.584153e+09</td>\n",
              "      <td>queenofthewo</td>\n",
              "      <td>1.482765e+12</td>\n",
              "      <td>2016-12-26 15:06:41</td>\n",
              "      <td>NaN</td>\n",
              "      <td>NaN</td>\n",
              "      <td>NaN</td>\n",
              "      <td>RT @jww372: I don't have to guess your religio...</td>\n",
              "      <td>8.134006e+17</td>\n",
              "      <td>NaN</td>\n",
              "      <td>[\"ChristmasAftermath\"]</td>\n",
              "      <td>[]</td>\n",
              "      <td>POSTED</td>\n",
              "      <td>[]</td>\n",
              "      <td>NaN</td>\n",
              "      <td>NaN</td>\n",
              "    </tr>\n",
              "    <tr>\n",
              "      <th>4</th>\n",
              "      <td>1.768260e+09</td>\n",
              "      <td>mrclydepratt</td>\n",
              "      <td>1.501987e+12</td>\n",
              "      <td>2017-08-06 02:36:24</td>\n",
              "      <td>NaN</td>\n",
              "      <td>NaN</td>\n",
              "      <td>NaN</td>\n",
              "      <td>RT @Shareblue: Pence and his lawyers decided w...</td>\n",
              "      <td>8.940243e+17</td>\n",
              "      <td>NaN</td>\n",
              "      <td>[]</td>\n",
              "      <td>[]</td>\n",
              "      <td>POSTED</td>\n",
              "      <td>[]</td>\n",
              "      <td>NaN</td>\n",
              "      <td>NaN</td>\n",
              "    </tr>\n",
              "  </tbody>\n",
              "</table>\n",
              "</div>"
            ],
            "text/plain": [
              "        user_id         user_key  ...  retweeted_status_id in_reply_to_status_id\n",
              "0  1.868981e+09    ryanmaxwell_1  ...                  NaN                   NaN\n",
              "1  2.571870e+09  detroitdailynew  ...                  NaN                   NaN\n",
              "2  1.710805e+09       cookncooks  ...                  NaN                   NaN\n",
              "3  2.584153e+09     queenofthewo  ...                  NaN                   NaN\n",
              "4  1.768260e+09     mrclydepratt  ...                  NaN                   NaN\n",
              "\n",
              "[5 rows x 16 columns]"
            ]
          },
          "metadata": {
            "tags": []
          },
          "execution_count": 68
        }
      ]
    },
    {
      "cell_type": "code",
      "metadata": {
        "id": "FV-xoyzOHv6D",
        "outputId": "d1aa6093-b4cb-434c-cba2-ec53c90c8c04",
        "colab": {
          "base_uri": "https://localhost:8080/"
        }
      },
      "source": [
        "len(df)"
      ],
      "execution_count": 69,
      "outputs": [
        {
          "output_type": "execute_result",
          "data": {
            "text/plain": [
              "203482"
            ]
          },
          "metadata": {
            "tags": []
          },
          "execution_count": 69
        }
      ]
    },
    {
      "cell_type": "code",
      "metadata": {
        "id": "H-N-slmvIUnn"
      },
      "source": [
        "vader = SentimentIntensityAnalyzer()"
      ],
      "execution_count": 70,
      "outputs": []
    },
    {
      "cell_type": "code",
      "metadata": {
        "id": "amN8m-hply5_",
        "outputId": "c8729681-6fcf-4041-b703-8cca59159632",
        "colab": {
          "base_uri": "https://localhost:8080/"
        }
      },
      "source": [
        "%%time\n",
        "df[\"text\"] = df[\"text\"].apply(str)\n",
        "df[\"sentiment\"] = df[\"text\"].apply(vader.polarity_scores)"
      ],
      "execution_count": 71,
      "outputs": [
        {
          "output_type": "stream",
          "text": [
            "CPU times: user 38.8 s, sys: 252 ms, total: 39.1 s\n",
            "Wall time: 39.1 s\n"
          ],
          "name": "stdout"
        }
      ]
    },
    {
      "cell_type": "code",
      "metadata": {
        "id": "fZE0DEz5e4ut"
      },
      "source": [
        "df[\"sentiment\"] = df[\"sentiment\"].apply(lambda x:x[\"compound\"])"
      ],
      "execution_count": 72,
      "outputs": []
    },
    {
      "cell_type": "code",
      "metadata": {
        "id": "2CCuieqdzAJP"
      },
      "source": [
        "def num_to_category(num):\n",
        "  if num<-0.5:\n",
        "    return \"HN\"\n",
        "  elif num<0:\n",
        "    return \"N\"\n",
        "  elif num<0.5:\n",
        "    return \"P\"\n",
        "  else:\n",
        "    return \"HP\"\n",
        "df[\"category\"] = df[\"sentiment\"].apply(num_to_category)"
      ],
      "execution_count": 73,
      "outputs": []
    },
    {
      "cell_type": "code",
      "metadata": {
        "id": "uLc0znLgH9hL",
        "outputId": "a7514f96-e789-4ce7-bfbe-297c580f0208",
        "colab": {
          "base_uri": "https://localhost:8080/"
        }
      },
      "source": [
        "import collections\n",
        "\n",
        "print(collections.Counter(df.category))"
      ],
      "execution_count": 74,
      "outputs": [
        {
          "output_type": "stream",
          "text": [
            "Counter({'P': 114648, 'N': 32392, 'HN': 29580, 'HP': 26862})\n"
          ],
          "name": "stdout"
        }
      ]
    },
    {
      "cell_type": "code",
      "metadata": {
        "id": "D9W5F44R75fB",
        "outputId": "59e352e3-b4aa-4bc3-ca63-50cc618a4560",
        "colab": {
          "base_uri": "https://localhost:8080/"
        }
      },
      "source": [
        "list_of_hashtags = []\n",
        "str_hashtags = list(l for l in list(df[\"hashtags\"]) if l!=\"[]\")\n",
        "\n",
        "for l in str_hashtags:\n",
        "  split_list = l.lstrip(\"[\").rstrip(\"]\").split(\",\")\n",
        "  for h in split_list:\n",
        "    list_of_hashtags.append(h)\n",
        "  \n",
        "len(list_of_hashtags)"
      ],
      "execution_count": 75,
      "outputs": [
        {
          "output_type": "execute_result",
          "data": {
            "text/plain": [
              "121139"
            ]
          },
          "metadata": {
            "tags": []
          },
          "execution_count": 75
        }
      ]
    },
    {
      "cell_type": "code",
      "metadata": {
        "id": "BaWKvscSt34_",
        "outputId": "08fdadc8-7d5e-4c41-eb78-c0ebc1821ef7",
        "colab": {
          "base_uri": "https://localhost:8080/",
          "height": 197
        }
      },
      "source": [
        "df2 = pd.DataFrame()\n",
        "df2[\"hashtags\"] = list_of_hashtags\n",
        "df2.head(5)"
      ],
      "execution_count": 77,
      "outputs": [
        {
          "output_type": "execute_result",
          "data": {
            "text/html": [
              "<div>\n",
              "<style scoped>\n",
              "    .dataframe tbody tr th:only-of-type {\n",
              "        vertical-align: middle;\n",
              "    }\n",
              "\n",
              "    .dataframe tbody tr th {\n",
              "        vertical-align: top;\n",
              "    }\n",
              "\n",
              "    .dataframe thead th {\n",
              "        text-align: right;\n",
              "    }\n",
              "</style>\n",
              "<table border=\"1\" class=\"dataframe\">\n",
              "  <thead>\n",
              "    <tr style=\"text-align: right;\">\n",
              "      <th></th>\n",
              "      <th>hashtags</th>\n",
              "    </tr>\n",
              "  </thead>\n",
              "  <tbody>\n",
              "    <tr>\n",
              "      <th>0</th>\n",
              "      <td>\"IslamKills\"</td>\n",
              "    </tr>\n",
              "    <tr>\n",
              "      <th>1</th>\n",
              "      <td>\"ChristmasAftermath\"</td>\n",
              "    </tr>\n",
              "    <tr>\n",
              "      <th>2</th>\n",
              "      <td>\"Blacklivesmatter\"</td>\n",
              "    </tr>\n",
              "    <tr>\n",
              "      <th>3</th>\n",
              "      <td>\"MyFarewellWordsWouldBe\"</td>\n",
              "    </tr>\n",
              "    <tr>\n",
              "      <th>4</th>\n",
              "      <td>\"My2017BiggestHope\"</td>\n",
              "    </tr>\n",
              "  </tbody>\n",
              "</table>\n",
              "</div>"
            ],
            "text/plain": [
              "                   hashtags\n",
              "0              \"IslamKills\"\n",
              "1      \"ChristmasAftermath\"\n",
              "2        \"Blacklivesmatter\"\n",
              "3  \"MyFarewellWordsWouldBe\"\n",
              "4       \"My2017BiggestHope\""
            ]
          },
          "metadata": {
            "tags": []
          },
          "execution_count": 77
        }
      ]
    },
    {
      "cell_type": "code",
      "metadata": {
        "id": "Oh7EwLsuuLTh",
        "outputId": "510fe89d-6057-4aea-a544-2e9c8cb34ea9",
        "colab": {
          "base_uri": "https://localhost:8080/"
        }
      },
      "source": [
        "df2['hashtags'].value_counts()[:15].sort_values(ascending=False)\n"
      ],
      "execution_count": 78,
      "outputs": [
        {
          "output_type": "execute_result",
          "data": {
            "text/plain": [
              "\"Politics\"             3606\n",
              "\"maga\"                 3079\n",
              "\"Trump\"                2425\n",
              "\"tcot\"                 2366\n",
              "\"news\"                 1973\n",
              "\"NeverHillary\"         1375\n",
              "\"pjnet\"                1276\n",
              "\"TrumpPence16\"          980\n",
              "\"Trump2016\"             947\n",
              "\"MerkelMussBleiben\"     796\n",
              "\"Hillary\"               758\n",
              "\"TrumpTrain\"            719\n",
              "\"HillaryClinton\"        704\n",
              "\"CrookedHillary\"        678\n",
              "\"WakeUpAmerica\"         661\n",
              "Name: hashtags, dtype: int64"
            ]
          },
          "metadata": {
            "tags": []
          },
          "execution_count": 78
        }
      ]
    },
    {
      "cell_type": "code",
      "metadata": {
        "id": "hGZGVoFL1xJd",
        "outputId": "be985af2-74da-4019-ecf7-038e50375a26",
        "colab": {
          "base_uri": "https://localhost:8080/"
        }
      },
      "source": [
        "list_of_negative_hashtags = []\n",
        "str_hashtags = list(l for l in list(df[df['category']==\"HN\"][\"hashtags\"]) if l!=\"[]\")\n",
        "\n",
        "for l in str_hashtags:\n",
        "  split_list = l.lstrip(\"[\").rstrip(\"]\").split(\",\")\n",
        "  for h in split_list:\n",
        "    list_of_negative_hashtags.append(h)\n",
        "\n",
        "df3 = pd.DataFrame()\n",
        "df3[\"negative_hashtags\"] = list_of_negative_hashtags\n",
        "df3['negative_hashtags'].value_counts()[:10].sort_values(ascending=False)\n"
      ],
      "execution_count": 79,
      "outputs": [
        {
          "output_type": "execute_result",
          "data": {
            "text/plain": [
              "\"maga\"                 447\n",
              "\"tcot\"                 428\n",
              "\"Trump\"                390\n",
              "\"Politics\"             264\n",
              "\"NeverHillary\"         256\n",
              "\"news\"                 241\n",
              "\"MerkelMussBleiben\"    219\n",
              "\"pjnet\"                171\n",
              "\"CrookedHillary\"       163\n",
              "\"Trump2016\"            154\n",
              "Name: negative_hashtags, dtype: int64"
            ]
          },
          "metadata": {
            "tags": []
          },
          "execution_count": 79
        }
      ]
    },
    {
      "cell_type": "code",
      "metadata": {
        "id": "i84xdavS3GH3",
        "outputId": "cc41cdbd-a8e2-4e82-a165-63b0ec34b974",
        "colab": {
          "base_uri": "https://localhost:8080/"
        }
      },
      "source": [
        "list_of_positive_hashtags = []\n",
        "str_hashtags = list(l for l in list(df[df['category']==\"HP\"][\"hashtags\"]) if l!=\"[]\")\n",
        "\n",
        "for l in str_hashtags:\n",
        "  split_list = l.lstrip(\"[\").rstrip(\"]\").split(\",\")\n",
        "  for h in split_list:\n",
        "    list_of_positive_hashtags.append(h)\n",
        "\n",
        "df4 = pd.DataFrame()\n",
        "df4[\"positive_hashtags\"] = list_of_positive_hashtags\n",
        "df4['positive_hashtags'].value_counts()[:10].sort_values(ascending=False)\n"
      ],
      "execution_count": 80,
      "outputs": [
        {
          "output_type": "execute_result",
          "data": {
            "text/plain": [
              "\"maga\"            597\n",
              "\"Trump\"           352\n",
              "\"tcot\"            229\n",
              "\"Politics\"        228\n",
              "\"TrumpPence16\"    183\n",
              "\"TrumpTrain\"      159\n",
              "\"Trump2016\"       154\n",
              "\"NeverHillary\"    152\n",
              "\"news\"            131\n",
              "\"CCOT\"            119\n",
              "Name: positive_hashtags, dtype: int64"
            ]
          },
          "metadata": {
            "tags": []
          },
          "execution_count": 80
        }
      ]
    }
  ]
}